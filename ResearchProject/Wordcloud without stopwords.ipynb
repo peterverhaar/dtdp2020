{
 "cells": [
  {
   "cell_type": "code",
   "execution_count": null,
   "metadata": {},
   "outputs": [],
   "source": [
    "import dtdpTdm as tdm\n",
    "\n",
    "import os\n",
    "from os.path import join\n",
    "import re\n",
    "import dtdpTdm as tdm\n",
    "\n",
    "# create variable for the name of the folder containing your texts\n",
    "dir = 'Corpus'\n",
    "\n",
    "# create variable for the name of file you want to analyse\n",
    "file = 'ATaleofTwoCities.txt'\n",
    "\n",
    "# create a dictionary for the word frequencies; this dictionary will be used in the word cloud\n",
    "freq = dict()\n",
    "\n",
    "# read the text\n",
    "text = open( join( dir, file ) )\n",
    "\n",
    "\n",
    "# Read the text, and iterate through the text line by line. \n",
    "for line in text:\n",
    "    words = tdm.tokenise( line.lower() )  \n",
    "    for w in words:\n",
    "        freq[w] = freq.get( w, 0 ) + 1\n",
    "         \n",
    "\n",
    "        \n",
    "from nltk.corpus import stopwords\n",
    "stopwords = set(stopwords.words('english'))\n",
    "#print(stopwords)\n",
    "\n",
    "\n",
    "freq_copy = freq.copy()\n",
    "\n",
    "for w in freq_copy:\n",
    "    if w in stopwords or not(re.search( r'\\w' , w ) ):\n",
    "        del freq[w]\n",
    "\n",
    "        \n",
    "%matplotlib inline\n",
    "\n",
    "import matplotlib.pyplot as plt \n",
    "from wordcloud import WordCloud \n",
    "\n",
    "fig = plt.figure( figsize = ( 8,8 ))\n",
    "\n",
    "wordcloud = WordCloud( background_color=\"white\",   max_words= 75, relative_scaling=1,normalize_plurals=False).generate_from_frequencies(freq)\n",
    "\n",
    "\n",
    "plt.imshow(wordcloud, interpolation='bilinear')\n",
    "plt.axis(\"off\")\n",
    "plt.show()"
   ]
  },
  {
   "cell_type": "code",
   "execution_count": null,
   "metadata": {},
   "outputs": [],
   "source": []
  }
 ],
 "metadata": {
  "kernelspec": {
   "display_name": "Python 3",
   "language": "python",
   "name": "python3"
  },
  "language_info": {
   "codemirror_mode": {
    "name": "ipython",
    "version": 3
   },
   "file_extension": ".py",
   "mimetype": "text/x-python",
   "name": "python",
   "nbconvert_exporter": "python",
   "pygments_lexer": "ipython3",
   "version": "3.7.2"
  }
 },
 "nbformat": 4,
 "nbformat_minor": 2
}
