{
 "cells": [
  {
   "cell_type": "markdown",
   "metadata": {},
   "source": [
    "# Bulk downloads and web scraping"
   ]
  },
  {
   "cell_type": "code",
   "execution_count": null,
   "metadata": {},
   "outputs": [],
   "source": [
    "from bs4 import BeautifulSoup\n",
    "import requests\n",
    "import re\n",
    "\n",
    "\n",
    "baseUrl = \"http://www.hplovecraft.com/writings/texts/\"\n",
    "\n",
    "soup = \"\"\n",
    "\n",
    "response = requests.get( baseUrl )\n",
    "\n",
    "soup = BeautifulSoup( response.text ,\"lxml\")\n",
    "links = soup.find_all(\"a\")\n",
    "\n",
    "\n",
    "for l in links:\n",
    "\n",
    "    if l.get(\"href\") is not None:\n",
    "        if l.string is not None:\n",
    "            linktext = l.string\n",
    "        else:\n",
    "            linktext = l.get(\"href\")\n",
    "            linktext = linktext[ linktext.rindex('/') + 1 : ]\n",
    "            linktext = re.sub( r'[.]aspx' , '' , linktext )\n",
    "        textUrl = baseUrl + l.get(\"href\")\n",
    "\n",
    "        if re.search( 'fiction' , textUrl ):\n",
    "            print(f\"{linktext}: {textUrl}\")\n",
    "            response = requests.get( textUrl )\n",
    "            soup = BeautifulSoup( response.text ,\"lxml\")\n",
    "            body = soup.find(\"body\")\n",
    "\n",
    "            fullText = body.get_text()\n",
    "            fullText = re.sub( 'By H. P. Lovecraft' , ' by H. P. Lovecraft ' , fullText )\n",
    "\n",
    "            fullText = fullText[fullText.index('About This Site') + 15 : ]\n",
    "            fullText = fullText[ 0 : fullText.rindex('Return to ') ]\n",
    "            fullText = fullText.strip()\n",
    "\n",
    "            out = open( linktext + '.txt' , 'w' , encoding = 'utf-8' )\n",
    "            out.write( fullText )\n",
    "            out.close()\n"
   ]
  },
  {
   "cell_type": "markdown",
   "metadata": {},
   "source": [
    "# Converting PDF to Text"
   ]
  },
  {
   "cell_type": "code",
   "execution_count": 19,
   "metadata": {},
   "outputs": [
    {
     "name": "stdout",
     "output_type": "stream",
     "text": [
      "*https://openaccess.leidenuniv.nl/bitstream/handle/1887/31806/BinnenstebuitelendeDigitalisatie.pdf\n",
      "*https://openaccess.leidenuniv.nl/bitstream/handle/1887/15636/Brill_2007_Het_geheim_van_de_uitgever.pdf\n",
      "*https://openaccess.leidenuniv.nl/bitstream/handle/1887/10375/9_62_32.pdf?sequence=1\n",
      "200\n",
      "200\n",
      "200\n"
     ]
    }
   ],
   "source": [
    "\n",
    "import requests\n",
    "import re\n",
    "\n",
    "from pdfminer.pdfparser import PDFParser\n",
    "from pdfminer.pdfdocument import PDFDocument\n",
    "from pdfminer.pdfpage import PDFPage\n",
    "from pdfminer.pdfpage import PDFTextExtractionNotAllowed\n",
    "from pdfminer.pdfinterp import PDFResourceManager\n",
    "from pdfminer.pdfinterp import PDFPageInterpreter\n",
    "from pdfminer.pdfdevice import PDFDevice\n",
    "from pdfminer.converter import TextConverter\n",
    "from pdfminer.layout import LAParams\n",
    "import unicodedata, codecs\n",
    "from io import StringIO\n",
    "\n",
    "urls = '''\n",
    "https://openaccess.leidenuniv.nl/bitstream/handle/1887/31806/BinnenstebuitelendeDigitalisatie.pdf\n",
    "https://openaccess.leidenuniv.nl/bitstream/handle/1887/15636/Brill_2007_Het_geheim_van_de_uitgever.pdf\n",
    "https://openaccess.leidenuniv.nl/bitstream/handle/1887/10375/9_62_32.pdf?sequence=1\n",
    "'''\n",
    "\n",
    "urlsList = re.split( '\\s+' , str(urls).strip() ) \n",
    "for u in urlsList:\n",
    "    print( '*' + u)\n",
    "    if not( re.search( '\\w' , u ) ):\n",
    "        print( 'removed' + u)\n",
    "        urlsList.remove( u )\n",
    "\n",
    "        \n",
    "        \n",
    "def getPDFText(pdfFilenamePath):\n",
    "    retstr = StringIO()\n",
    "    parser = PDFParser(open(pdfFilenamePath,'r+b'))\n",
    "    try:\n",
    "        document = PDFDocument(parser)\n",
    "    except Exception as e:\n",
    "        print(pdfFilenamePath,'is not a readable pdf')\n",
    "        return ''\n",
    "    if document.is_extractable:\n",
    "        rsrcmgr = PDFResourceManager()\n",
    "        device = TextConverter(rsrcmgr,retstr, codec='ascii' , laparams = LAParams())\n",
    "        interpreter = PDFPageInterpreter(rsrcmgr, device)\n",
    "        for page in PDFPage.create_pages(document):\n",
    "            interpreter.process_page(page)\n",
    "        return retstr.getvalue()\n",
    "    else:\n",
    "        print(pdfFilenamePath,\"Warning: could not extract text from pdf file.\")\n",
    "        return ''\n",
    "\n",
    "\n",
    "\n",
    "\n",
    "for file in urlsList:\n",
    "\n",
    "    parts = re.split( r'/' , file )\n",
    "    fileName = parts[-1]\n",
    "    response = requests.get( file )\n",
    "    print( response.status_code )\n",
    "\n",
    "    if response.status_code == 200:\n",
    "        open( fileName , 'wb').write( response.content)\n",
    "\n",
    "    fullText = getPDFText( fileName )\n",
    "    fileNameTxt = re.sub( r'[.]pdf$' , '.txt', fileName )\n",
    "    out = open( fileNameTxt , 'w' , encoding = 'utf-8' )\n",
    "    out.write( fullText )\n",
    "    out.close()\n"
   ]
  },
  {
   "cell_type": "code",
   "execution_count": null,
   "metadata": {},
   "outputs": [],
   "source": []
  }
 ],
 "metadata": {
  "kernelspec": {
   "display_name": "Python 3",
   "language": "python",
   "name": "python3"
  },
  "language_info": {
   "codemirror_mode": {
    "name": "ipython",
    "version": 3
   },
   "file_extension": ".py",
   "mimetype": "text/x-python",
   "name": "python",
   "nbconvert_exporter": "python",
   "pygments_lexer": "ipython3",
   "version": "3.7.2"
  }
 },
 "nbformat": 4,
 "nbformat_minor": 2
}
