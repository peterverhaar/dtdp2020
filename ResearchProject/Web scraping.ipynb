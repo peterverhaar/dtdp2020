{
 "cells": [
  {
   "cell_type": "markdown",
   "metadata": {},
   "source": [
    "# Bulk downloads and web scraping"
   ]
  },
  {
   "cell_type": "code",
   "execution_count": null,
   "metadata": {},
   "outputs": [],
   "source": [
    "from bs4 import BeautifulSoup\n",
    "import requests\n",
    "import re\n",
    "\n",
    "\n",
    "baseUrl = \"http://www.hplovecraft.com/writings/texts/\"\n",
    "\n",
    "soup = \"\"\n",
    "\n",
    "response = requests.get( baseUrl )\n",
    "\n",
    "soup = BeautifulSoup( response.text ,\"lxml\")\n",
    "links = soup.find_all(\"a\")\n",
    "\n",
    "\n",
    "for l in links:\n",
    "\n",
    "    if l.get(\"href\") is not None:\n",
    "        if l.string is not None:\n",
    "            linktext = l.string\n",
    "        else:\n",
    "            linktext = l.get(\"href\")\n",
    "            linktext = linktext[ linktext.rindex('/') + 1 : ]\n",
    "            linktext = re.sub( r'[.]aspx' , '' , linktext )\n",
    "        textUrl = baseUrl + l.get(\"href\")\n",
    "\n",
    "        if re.search( 'fiction' , textUrl ):\n",
    "            print(f\"{linktext}: {textUrl}\")\n",
    "            response = requests.get( textUrl )\n",
    "            soup = BeautifulSoup( response.text ,\"lxml\")\n",
    "            body = soup.find(\"body\")\n",
    "\n",
    "            fullText = body.get_text()\n",
    "            fullText = re.sub( 'By H. P. Lovecraft' , ' by H. P. Lovecraft ' , fullText )\n",
    "\n",
    "            fullText = fullText[fullText.index('About This Site') + 15 : ]\n",
    "            fullText = fullText[ 0 : fullText.rindex('Return to ') ]\n",
    "            fullText = fullText.strip()\n",
    "\n",
    "            out = open( linktext + '.txt' , 'w' , encoding = 'utf-8' )\n",
    "            out.write( fullText )\n",
    "            out.close()\n"
   ]
  },
  {
   "cell_type": "code",
   "execution_count": null,
   "metadata": {},
   "outputs": [],
   "source": []
  }
 ],
 "metadata": {
  "kernelspec": {
   "display_name": "Python 3",
   "language": "python",
   "name": "python3"
  },
  "language_info": {
   "codemirror_mode": {
    "name": "ipython",
    "version": 3
   },
   "file_extension": ".py",
   "mimetype": "text/x-python",
   "name": "python",
   "nbconvert_exporter": "python",
   "pygments_lexer": "ipython3",
   "version": "3.7.2"
  }
 },
 "nbformat": 4,
 "nbformat_minor": 2
}
