{
 "cells": [
  {
   "cell_type": "markdown",
   "metadata": {},
   "source": [
    "# Create a CSV file for all the texts in your corpus\n",
    "\n",
    "The metadata file can be added manually. You may want to add values for a categorical variable in the 'class' column. "
   ]
  },
  {
   "cell_type": "code",
   "execution_count": null,
   "metadata": {},
   "outputs": [],
   "source": [
    "\n",
    "import os\n",
    "import re\n",
    "dir = 'Corpus'\n",
    "\n",
    "md = open( 'metadata.csv' , 'w' , encoding= 'utf-8' )\n",
    "\n",
    "md.write( 'title,class\\n')\n",
    "\n",
    "for file in os.listdir(dir):\n",
    "    if re.search( 'txt$' , file ):\n",
    "        title = re.sub( r'[.]txt$' , '' , file )\n",
    "        md.write( title + ',\\n' )\n"
   ]
  },
  {
   "cell_type": "markdown",
   "metadata": {},
   "source": [
    "# Merge the metadata file with other data\n",
    "\n",
    "Having merged the CSV files, you can use the values in the `class` column in your visualisations."
   ]
  },
  {
   "cell_type": "code",
   "execution_count": null,
   "metadata": {},
   "outputs": [],
   "source": [
    "import pandas as pd\n",
    "\n",
    "df = pd.read_csv( 'nltk.csv' )\n",
    "\n",
    "#df_all = pd.concat( df , df2\n",
    "\n",
    "metadata = pd.read_csv( 'metadata.csv' )\n",
    "\n",
    "df['class'] = metadata['class']\n",
    "\n",
    "print(df)\n",
    "\n",
    "df.to_csv (r'dataset.csv', index = False, header=True) \n"
   ]
  }
 ],
 "metadata": {
  "kernelspec": {
   "display_name": "Python 3",
   "language": "python",
   "name": "python3"
  },
  "language_info": {
   "codemirror_mode": {
    "name": "ipython",
    "version": 3
   },
   "file_extension": ".py",
   "mimetype": "text/x-python",
   "name": "python",
   "nbconvert_exporter": "python",
   "pygments_lexer": "ipython3",
   "version": "3.7.2"
  }
 },
 "nbformat": 4,
 "nbformat_minor": 2
}
