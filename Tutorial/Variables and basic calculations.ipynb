{
 "cells": [
  {
   "cell_type": "markdown",
   "metadata": {},
   "source": [
    "< [Table of Contents](https://tdm.universiteitleiden.nl/Python) | [Flow control](Flow%20Control.html) >"
   ]
  },
  {
   "cell_type": "markdown",
   "metadata": {},
   "source": [
    "# Variables and basic calculations"
   ]
  },
  {
   "cell_type": "markdown",
   "metadata": {},
   "source": [
    "## Statements\n",
    "\n",
    "A computer program is essentially an implementation of one or more algorithms. Algorithms, in turn, consist of descriptions of the concrete steps that need to be followed to arrive at a specific result. Computer programs translate these steps or activities into concrete instructions or commands. These instructions can be referred to, more generally, as statements. In the Python language, the individual statements are delineated by hard returns. The end of the statement (i.e. the hard return) is a cue which triggers the Python parser to interpret and to execute the statement. \n",
    "\n",
    "## Printing output\n",
    "\n",
    "Programs are generally written to solve specific problems, and they usually produce some output. This output can be the result of a calculation, for instance. The print() function can be used to communicate the output of the program to the user. As will be explained in more detail later, a function is a named collection of statements. The print() function is always used with parentheses. Inside the parentheses, you can provide the text that you would like the computer to display. This text must be provided either in single or in double quotes."
   ]
  },
  {
   "cell_type": "code",
   "execution_count": null,
   "metadata": {},
   "outputs": [],
   "source": [
    "print('This program works!')"
   ]
  },
  {
   "cell_type": "markdown",
   "metadata": {},
   "source": [
    "You can also format the text, to some extent. The character '\\t' prints a tab, and '\\n' creates a hard return. Note that the print() function also adds a line breaks itself."
   ]
  },
  {
   "cell_type": "code",
   "execution_count": null,
   "metadata": {},
   "outputs": [],
   "source": [
    "print('This sentence is followed by two line breaks. \\n')\n",
    "print('This line contains \\ta tab. ')\n"
   ]
  },
  {
   "cell_type": "markdown",
   "metadata": {},
   "source": [
    "\n",
    "\n",
    "\n",
    "## Variables \n",
    "\n",
    "Virtually all programming languages make use of variables of some sort. Variables can be thought of as containers or as boxes in which information can be stored temporarily. Variables are always given a name. This name can be used to retrieve the 'contents' of the variable. These contents (the data referred to by the variable) is generally referred to as the variable's *value*. \n",
    "\n",
    "Variables names can consist of any combination of alphanumerical characters that you can think of. Underscores are also allowed in variable names. One important rule, however, is that variable names cannot begin with a number and they cannot contain spaces. Although it is possible to work with any sequence of characters, your script will evidently be most understandable when you make use of variable names which are meaningful. Note that there are a number of reserved words which have a particular function in the Python language, and which cannot be used as variable names for this reason. The list of reserved words include ‘for’, ‘in’, ‘is’, ‘print’, ‘global’, ‘def’, ‘if, ‘elif’ and ‘else’. \n",
    "\n",
    "As mentioned, variables can be given a value. The act of giving a value to a certain variable is called *assignment*. In the first example, the variable named placeName is assigned the value ‘Leiden’. "
   ]
  },
  {
   "cell_type": "code",
   "execution_count": null,
   "metadata": {},
   "outputs": [],
   "source": [
    "placeName = 'Leiden'\n",
    "numberOfInhabitants = 123924"
   ]
  },
  {
   "cell_type": "markdown",
   "metadata": {},
   "source": [
    "## Data types\n",
    "\n",
    "Values are always of a specific type. In the example above, the variable placeName is assigned a string value. Simply put, a string is a sequence of alphanumeric characters and spaces. Strings can be created either with single quotes or with double quotes. The variable 'numberofInhabitants' is an example of an integer (i.e. a natural number). Next to such integers, Python can also work with rational numbers. They are called floats or floating point numbers. Unlike strings, numbers are not surrounded by quotes. "
   ]
  },
  {
   "cell_type": "code",
   "execution_count": null,
   "metadata": {},
   "outputs": [],
   "source": [
    "pi = 3.14159265359"
   ]
  },
  {
   "cell_type": "markdown",
   "metadata": {},
   "source": [
    "The type of a variable can always be found by using the type() function, as follows: "
   ]
  },
  {
   "cell_type": "code",
   "execution_count": null,
   "metadata": {},
   "outputs": [],
   "source": [
    "age = 20\n",
    "print( type(age) )\n",
    "## this will print <class 'int'>\n"
   ]
  },
  {
   "cell_type": "markdown",
   "metadata": {},
   "source": [
    "## Comments\n",
    "\n",
    "Incidentally, the example above also illustrates another feature of the Python language. Lines can be preceded by the hash (‘#’) symbol. Lines that start with a hash are called comments. Such comments can be very useful when you want to document your code. They can be used to explain what happens exactly in specific parts of the code. Comments are ignored by the Python interpreter.\n",
    "\n",
    "## Mathematical operators \n",
    "\n",
    "Computer are generally written to process certain data values. Values can be manipulated by making use of so-called operators. They are symbols that represent specific actions. They can be applied to values, or to variables representing certain values. The values that are combined with these operators are called the operands.\n",
    "\n",
    "Numerical values can be used in combination with mathematical operators:\n",
    "\n",
    "\n",
    "\n",
    "\n",
    "\n",
    "\n",
    "\n",
    "<p>\n",
    "<table width=\"100%; \" style=\"text-align: left; font-size: 1.0em;  \">\n",
    "<tr style=\"text-align: left; \" >\n",
    "    <td width=\"15%\" style=\"text-align: center; \">+</td>    \n",
    "<td style=\"text-align: left; padding-right: 40%;\">Addition</td>    \n",
    "</tr> \n",
    "    <tr style=\"text-align: left; \">\n",
    "    <td width=\"15%\" style=\"text-align: center; \">-</td>    \n",
    "<td style=\"text-align: left; \" >Subtraction</td>    \n",
    "</tr>\n",
    "      <tr style=\"text-align: left; \">\n",
    "    <td width=\"15%\" style=\"text-align: center; \" >*</td>    \n",
    "<td style=\"text-align: left; \" >Multiplication</td>    \n",
    "</tr>\n",
    "   <tr style=\"text-align: left; \">\n",
    "    <td width=\"15%\" style=\"text-align: center; \">/</td>    \n",
    "<td style=\"text-align: left; \" >Division</td>    \n",
    "</tr>\n",
    "</table>\n",
    "  </p>\n",
    "  \n",
    " The code below contains a number of examples of how such mathematical operators can be used. "
   ]
  },
  {
   "cell_type": "code",
   "execution_count": null,
   "metadata": {},
   "outputs": [],
   "source": [
    "# Firstly, we create two values a and b\n",
    "# and assign them numerical values\n",
    "\n",
    "a = 4\n",
    "b = 3\n",
    "\n",
    "c = a + b\n",
    "\n",
    "print(c)\n",
    "# c now has value 7\n",
    "\n",
    "c = a * b ;\n",
    "print(c)\n",
    "#c now has value 12\n",
    "\n",
    "c = a - b\n",
    "print(c)\n",
    "# c has value 1\n",
    "\n",
    "c = c+1\n",
    "print(c)\n",
    "#c now has value 2\n",
    "\n",
    "c += 1\n",
    "print(c)\n",
    "\n",
    "# c now has value 3.\n",
    "# c += 1 is a shorthand notation for  c = c + 1\n",
    "\n",
    "\n"
   ]
  },
  {
   "cell_type": "markdown",
   "metadata": {},
   "source": [
    "< [Table of Contents](https://tdm.universiteitleiden.nl/Python) | [Flow control](Flow%20Control.html) >"
   ]
  }
 ],
 "metadata": {
  "kernelspec": {
   "display_name": "Python 3",
   "language": "python",
   "name": "python3"
  },
  "language_info": {
   "codemirror_mode": {
    "name": "ipython",
    "version": 3
   },
   "file_extension": ".py",
   "mimetype": "text/x-python",
   "name": "python",
   "nbconvert_exporter": "python",
   "pygments_lexer": "ipython3",
   "version": "3.7.2"
  }
 },
 "nbformat": 4,
 "nbformat_minor": 2
}
