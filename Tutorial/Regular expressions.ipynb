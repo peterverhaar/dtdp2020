{
 "cells": [
  {
   "cell_type": "markdown",
   "metadata": {},
   "source": [
    "< [Working with files and folders](Working%20with%20files%20and%20folders.html) | [Table of contents](https://tdm.universiteitleiden.nl/Python) | [Data acquisition](Data%20acquisition.html) >\n",
    "\n",
    "\n",
    "\n",
    "# Regular Expressions\n",
    "\n",
    "\n"
   ]
  },
  {
   "cell_type": "markdown",
   "metadata": {},
   "source": [
    "\n",
    "\n",
    "Regular expressions can be used to search for specific patterns within texts. They typically consist of a sequence of symbols which specify a search action. Once defined, such regular expressions can be matched against actual strings. \n",
    "\n",
    "Regular expressions can be constructed using literal characters and so-called metacharacters. The simple regular expression ‘flower’, for instance, only contains literal characters. It can be used to search for the six characters that are mentioned. Metacharacters, by contrast, are characters with a special meaning. They represent specific types of characters, such as characters in lower case, digits, or tabs. When you combine literal characters and metacharacters, you can search for patterns rather than for literal strings.  \n",
    "\n",
    "The standard installation of Python includes a useful module called ‘re’, which can be used to search for text fragments on the basis of regular expressions. To work with the module, you firstly need to import it. The module ‘re’ contains a function called 'search()', which minimally requires two parameters. The first parameter is the pattern to search for, and the second parameter is the string in which you want to search. The method returns the value ‘true’ if the pattern which is mentioned occurs in the string which is provided as the second parameter. \n",
    "\n",
    "The listing below offers an example. The regular expression, in this case, is simply a string consisting of literal characters. The program simply tries to establish whether the string that is mentioned as the first parameter of 're.search()' occurs in the sentence which is mentioned as the second parameter.\n"
   ]
  },
  {
   "cell_type": "code",
   "execution_count": null,
   "metadata": {},
   "outputs": [],
   "source": [
    "import re\n",
    "\n",
    "sentence = 'Mrs. Dalloway said she would buy the flowers herself.'\n",
    "\n",
    "if re.search( 'flower' , sentence ):\n",
    "    print('The pattern was found in the sentence!')\n",
    "    "
   ]
  },
  {
   "cell_type": "markdown",
   "metadata": {},
   "source": [
    "\n",
    "\n",
    "\n",
    "Next to literal characters, the following metacharacters may be used: \n",
    "\n",
    "\n",
    "\n",
    "<p>\n",
    "<table width=\"100%; \" style=\"text-align: left; font-size: 1.0em;  \">\n",
    "    <tr style=\"text-align: left; \" >\n",
    "        <td width=\"25%\" style=\"text-align: center; \"><b>Metacharacter</b></td>    \n",
    "<td style=\"text-align: left; padding-right: 40%;\"><b>Description</b></td>    \n",
    "</tr> \n",
    "    <tr style=\"text-align: left; \">\n",
    "    <td width=\"25%\" style=\"text-align: center; \">\\w</td>    \n",
    "<td style=\"text-align: left; \" >Any alphanumeric character: all 26 alphabetical characters, both in upper case and in lower case, all numbers and the underscore.</td>    \n",
    "</tr>\n",
    "      <tr style=\"text-align: left; \">\n",
    "    <td width=\"25%\" style=\"text-align: center; \" >\\d</td>    \n",
    "<td style=\"text-align: left; \" >Digits.</td>    \n",
    "</tr>\n",
    "<tr style=\"text-align: left; \" >\n",
    "    <td width=\"25%\" style=\"text-align: center; \">.</td>    \n",
    "<td style=\"text-align: left; padding-right: 40%;\">Any character, except the newline.</td>    \n",
    "</tr> \n",
    "   <tr style=\"text-align: left; \">\n",
    "    <td width=\"25%\" style=\"text-align: center; \">\\s</td>    \n",
    "<td style=\"text-align: left; \" >White space: the space, a tab or a newline character.</td>    \n",
    "</tr>\n",
    "   \n",
    " <tr style=\"text-align: left; \">\n",
    "    <td width=\"25%\" style=\"text-align: center; \">[A-Z]</td>    \n",
    "<td style=\"text-align: left; \" >Any upper case character.</td>    \n",
    "</tr>\n",
    " <tr style=\"text-align: left; \">\n",
    "    <td width=\"25%\" style=\"text-align: center; \">[A-Za-z]</td>    \n",
    "<td style=\"text-align: left; \" >Any upper case of lower case character.</td>    \n",
    "</tr>\n",
    "       <tr style=\"text-align: left; \">\n",
    "    <td width=\"25%\" style=\"text-align: center; \">[...]</td>    \n",
    "<td style=\"text-align: left; \" >If only a limited number of characters are allowed on a specific position in a string, the characters that are allowed can be supplied in square brackets. </td>    \n",
    "</tr>\n",
    "    \n",
    "</table>\n",
    "  </p>\n",
    "\n",
    "\n",
    "The square brackets can be useful if you need to search for words which can be spelled in different ways. To localize the word ‘digitise’, for instance, either in its British or in its American spelling, you may use the regular expression ‘digiti[sz]e’.\n",
    "\n",
    "\n",
    "You can also use quantifiers to specify the number of times a character or a pattern should occur. \n",
    "\n",
    "\n",
    "<p>\n",
    "<table width=\"100%; \" style=\"text-align: left; font-size: 1.0em; \">\n",
    "    <tr style=\"text-align: left; \" >\n",
    "    <td width=\"15%\" style=\"text-align: center; \"><b>Quantifier</b></td>    \n",
    "<td style=\"text-align: left; padding-right: 40%;\"><b>Description</b></td>    \n",
    "</tr> \n",
    "       <tr style=\"text-align: left; \" >\n",
    "    <td width=\"15%\" style=\"text-align: center; \">{n,m}</td>    \n",
    "<td style=\"text-align: left; padding-right: 40%;\">Pattern must occur a least n times, at most m times</td>    \n",
    "</tr> \n",
    "       <tr style=\"text-align: left; \" >\n",
    "    <td width=\"15%\" style=\"text-align: center; \">{n,}</td>    \n",
    "<td style=\"text-align: left; padding-right: 40%;\">At least n times.</td>    \n",
    "</tr> \n",
    "     <tr style=\"text-align: left; \" >\n",
    "    <td width=\"15%\" style=\"text-align: center; \">{n}</td>    \n",
    "<td style=\"text-align: left; padding-right: 40%;\">Exactly n times.</td>    \n",
    "</tr> \n",
    "       <tr style=\"text-align: left; \" >\n",
    "    <td width=\"15%\" style=\"text-align: center; \">?</td>    \n",
    "<td style=\"text-align: left; padding-right: 40%;\"> Is the same as {0,1}</td>    \n",
    "</tr> \n",
    "       <tr style=\"text-align: left; \" >\n",
    "    <td width=\"15%\" style=\"text-align: center; \">+</td>    \n",
    "<td style=\"text-align: left; padding-right: 40%;\"> Is the same as {1,}</td>    \n",
    "</tr> \n",
    "      <tr style=\"text-align: left; \" >\n",
    "    <td width=\"15%\" style=\"text-align: center; \">*</td>    \n",
    "<td style=\"text-align: left; padding-right: 40%;\">Is the same as {0,}</td>    \n",
    "</tr> \n",
    "    </table></p>\n",
    "\n",
    "\n",
    "\n",
    "\n",
    "The code below contains a number of examples of regular expressions containing such metacharacters and quantifiers. \n",
    "\n"
   ]
  },
  {
   "cell_type": "code",
   "execution_count": null,
   "metadata": {},
   "outputs": [],
   "source": [
    "import re\n",
    "\n",
    "sentence = \"Keats's 'Ode on a Grecian Urn' was written in 1819.\"\n",
    "\n",
    "if re.search( r'\\d{4}' , sentence ):\n",
    "    print('Found')\n",
    "## Matches '1819'\n",
    "\n",
    "if re.search( r'K[aeuio]{2}ts' , sentence ):\n",
    "    print('Found')\n",
    "## Matches 'Keats'\n",
    "\n",
    "hits = re.findall( r'[aeuio]n' , sentence )\n",
    "for h in hits:\n",
    "    print(h)\n",
    "## Four matches: 'on', 'an', 'en' and 'in'\n",
    "\n"
   ]
  },
  {
   "cell_type": "markdown",
   "metadata": {},
   "source": [
    "In the code above, all the regular expressions are preceded by the character ‘r’, which, in this context, indicates that the strings defining the regular expressions make use of the ‘raw string’ notation. In short, it means that all characters need to be read literally, in their ‘raw’ form. You are advised to use the ‘r’ in front of the string whenever the regular expression contains metacharacters such as ‘\\w’ or ‘\\d’. \n",
    "\n",
    "The fragment above also illustrates the function of the findall() function from the ‘re’ module. This function creates a list containing all fragments from the string that match the regular expression. The 're.search()' funcion, by contrast, only produces a Boolean value, depending on whether the regular expression matches the string.\n",
    "\n",
    "\n",
    "Finally, you can also use so-called anchors in regular expression. Anchors do not represent actual characters, but only locations within strings. \n",
    "\n",
    "\n",
    "<p>\n",
    "<table width=\"100%; \" style=\"text-align: left; font-size: 1.0em; \">\n",
    "    <tr style=\"text-align: left; \" >\n",
    "    <td width=\"15%\" style=\"text-align: center; \"><b>Symbol</b></td>    \n",
    "<td style=\"text-align: left; padding-right: 40%;\"><b>Description</b></td>    \n",
    "</tr> \n",
    "<tr style=\"text-align: left; \" >\n",
    "    <td width=\"15%\" style=\"text-align: center; \">\\b</td>    \n",
    "<td style=\"text-align: left; padding-right: 40%;\">A word boundary.</td>    </tr> \n",
    "    <tr style=\"text-align: left; \" >\n",
    "    <td width=\"15%\" style=\"text-align: center; \">^</td>    \n",
    "<td style=\"text-align: left; padding-right: 40%;\"> The beginning of a string.</td>    </tr> \n",
    "    <tr style=\"text-align: left; \" >\n",
    "    <td width=\"15%\" style=\"text-align: center; \">$</td>    \n",
    "<td style=\"text-align: left; padding-right: 40%;\">The end of a string.</td>    </tr> \n",
    "</table>\n",
    "</p>\n",
    "\n",
    "\n",
    "A word boundary is a location in which an alphanumeric character is placed next to a character which is not an alphanumeric character, such as punctuation, a space or a new line character. Illustrations of the use of such anchors can be found below.\n"
   ]
  },
  {
   "cell_type": "code",
   "execution_count": null,
   "metadata": {},
   "outputs": [],
   "source": [
    "import re\n",
    "\n",
    "line = \"In Xanadu did Kubla Khan a stately pleasure-dome decree\"\n",
    "\n",
    "if re.search( r'^In\\b' , line ):\n",
    "    print('Found!')\n",
    "    ## This regular expression searches for lines \n",
    "    ## beginning with the preposion ‘In’  \n",
    "\n",
    "if re.search( r'\\bd.*$' , line ):\n",
    "    print('Found!')  \n",
    "    ## Searches for lines whose final word begin with the character ‘d’  \n",
    "\n",
    "if re.search( r'\\ba\\b' , line ):\n",
    "    print('Found!')  \n",
    "    ### Searches for the single character ‘a’.    \n",
    "    ### It does not match words which contain an ‘a’, such    \n",
    "    ### as ‘Xanadu’ or ‘Khan’\n",
    "\n"
   ]
  },
  {
   "cell_type": "markdown",
   "metadata": {},
   "source": [
    "\n",
    "If you add the text “re.IGNORECASE” as the third parameter of the search() function, the search will take place in a case-insensitive manner. For examples of case-insensitive searches using word boundaries, see the code below.\n"
   ]
  },
  {
   "cell_type": "code",
   "execution_count": null,
   "metadata": {},
   "outputs": [],
   "source": [
    "import re\n",
    "\n",
    "line = \"Doubting, dreaming dreams no mortal ever dared to dream before\"\n",
    "\n",
    "hits = re.findall( r'\\bd[a-z]*\\b' , line , re.IGNORECASE )\n",
    "for h in hits:\n",
    "    print(h)\n",
    "\n",
    "# Matches all words starting with 'd', including 'Doubting' which starts \n",
    "# with upper case 'd'\n",
    "\n"
   ]
  },
  {
   "cell_type": "markdown",
   "metadata": {},
   "source": [
    "As was discussed, the method findall() can be used to retrieve the substrings that match the regular expression. Alternatively, you can also work with parentheses in the regular expression. These parentheses will have the effect that the characters in the string that match the regular expression are saved using the method group(). The matches will also be numbered. The text that matches the full regular expression is assigned number 0, and the fragment that matches the pattern in the first set of parentheses is given number 1. \n",
    "\n",
    "This approach can be followed, for instance, to extract the direct speech from a longer sentence. "
   ]
  },
  {
   "cell_type": "code",
   "execution_count": null,
   "metadata": {},
   "outputs": [],
   "source": [
    "import re\n",
    "\n",
    "sentence = \"\\\"Oh, good gracious me!\\\" said Lucy, suddenly collapsing and again seeing the whole of life in a new perspective.\"\n",
    "\n",
    "hits = re.search( r'[\"](.+)[\"]' , sentence )\n",
    "\n",
    "if hits:\n",
    "    print( hits.group(1) )\n",
    "## prints Oh, good gracious me!"
   ]
  },
  {
   "cell_type": "markdown",
   "metadata": {},
   "source": [
    "As was discussed above, character such as the dot (‘.’), the asterisk (‘*’) or the question mark (‘?’) have a special meaning in regular expressions. Normally, they function as quantifiers or as metacharacters. In some cases, however, you may want to search for these literal characters themselves. If you need to extract the top level domain name from the URL of a website, for example, you need to specify that it is the part that follows the final dot. If you want to refer to characters in their literal meaning, these special characters need to be preceded by the back slash. This notation is known as “escaping” the character. Listing 3.8 contains an illustration.\n"
   ]
  },
  {
   "cell_type": "code",
   "execution_count": null,
   "metadata": {},
   "outputs": [],
   "source": [
    "import re\n",
    "\n",
    "url = \"www.universiteitleiden.nl\"\n",
    "\n",
    "match = re.search( r'\\.(\\w+)$' , url )\n",
    "\n",
    "if match:\n",
    "    print( 'The top level domain name of this URL is ' + \n",
    "               match.group(1) )"
   ]
  },
  {
   "cell_type": "markdown",
   "metadata": {},
   "source": [
    "\n",
    "## Finding and replacing text\n",
    "\n",
    "In Python, regular expressions can also be applied usefully in ‘find and replace’ operations. Such operations can be performed using the 'sub()' function from the ‘re’ module. The 'sub()' method demands three parameters: a regular expression, a replacement string, and the string containing text which needs to be replaced. If matches can be found for the regular expression which is mentioned as the first parameter, these matches will all be replaced with the string which is given as the second parameter.\n",
    "\n",
    "\n"
   ]
  },
  {
   "cell_type": "code",
   "execution_count": null,
   "metadata": {},
   "outputs": [],
   "source": [
    "import re\n",
    "\n",
    "sentence = \"This,, ..sentence-. .,contains. .strange. !=puncuation\"\n",
    "\n",
    "sentence = re.sub( r'[.,!=-]' , '' , sentence )\n",
    "\n",
    "print(sentence)\n",
    "## This code removes all punctuation"
   ]
  },
  {
   "cell_type": "markdown",
   "metadata": {},
   "source": [
    "< [Working with files and folders](Working%20with%20files%20and%20folders.html) | [Table of contents](https://tdm.universiteitleiden.nl/Python) | [Data acquisition](Data%20acquisition.html) >"
   ]
  }
 ],
 "metadata": {
  "kernelspec": {
   "display_name": "Python 3",
   "language": "python",
   "name": "python3"
  },
  "language_info": {
   "codemirror_mode": {
    "name": "ipython",
    "version": 3
   },
   "file_extension": ".py",
   "mimetype": "text/x-python",
   "name": "python",
   "nbconvert_exporter": "python",
   "pygments_lexer": "ipython3",
   "version": "3.7.2"
  }
 },
 "nbformat": 4,
 "nbformat_minor": 2
}
