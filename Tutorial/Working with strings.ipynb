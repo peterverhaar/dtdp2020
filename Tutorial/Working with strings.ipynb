{
 "cells": [
  {
   "cell_type": "markdown",
   "metadata": {},
   "source": [
    "\n",
    "< [Flow control](Flow%20Control.html) | [Table of contents](https://tdm.universiteitleiden.nl/Python) | [Functions, modules and libraries](Functions.html) >\n",
    "\n",
    "\n"
   ]
  },
  {
   "cell_type": "markdown",
   "metadata": {},
   "source": [
    "# Working with strings"
   ]
  },
  {
   "cell_type": "markdown",
   "metadata": {},
   "source": [
    "## Concatenation\n",
    "\n",
    "Strings, as has been explained, consists of sequences of characters. Once created, such strings can be changed in a number of ways. One of the operators that you can use in combination with strings is the concatenation operator. Its symbol is the plus (‘+’). You can use this operator to combine two or more existing strings into a longer string. \n"
   ]
  },
  {
   "cell_type": "code",
   "execution_count": null,
   "metadata": {},
   "outputs": [],
   "source": [
    "firstName = \"Jane\"\n",
    "lastName = \"Austen\"\n",
    "fullName = firstName + \" \" + lastName\n",
    "sentence = 'Pride and Prejudice was written by ' + fullName\n",
    "\n",
    "print(sentence)\n"
   ]
  },
  {
   "cell_type": "markdown",
   "metadata": {},
   "source": [
    "The code above actually contains a number of concatenations. The variables ‘firstName’ and ‘secondNAme’ are firstly combined into the longer variable named fullName. A very short string, consisting of a space only, is placed in between the first name and the last name. The penultimate line uses the variable 'fullName' in a sentence which is printed. \n",
    "\n",
    "## Selecting individual characters of a string\n",
    "\n",
    "When you create a string, it is useful to bear in mind that all the inividual characters that make up the string are numbered. These numbers are referred to as indices. The first character is given the index 0. Individual characters can be accessed by appending a set of square brackets to the name of the string variable, and by supplying the index of the character you want to access within these brackets. Using these indices, it becomes possible to extract specific characters from variables. When you use negative numbers (e.g. -1 or -2), Python starts selecting characters at the end of the string and moves back."
   ]
  },
  {
   "cell_type": "code",
   "execution_count": null,
   "metadata": {},
   "outputs": [],
   "source": [
    "name = 'Albert Einstein'\n",
    "\n",
    "print( name[0] )\n",
    "## This prints 'A'\n",
    "\n",
    "print( name[4] )\n",
    "## This prints 'r'\n",
    "\n",
    "print ( name[-1] )\n",
    "## This prints 'n'"
   ]
  },
  {
   "cell_type": "markdown",
   "metadata": {},
   "source": [
    "You can also extract a range of characters from a given string by providing the start position and the end position of the substring you want to create. The two indices must be separated by a colon. Strings such as these, which are created by extracting a substring from a longer string, are referred to as ‘slices’.\n"
   ]
  },
  {
   "cell_type": "code",
   "execution_count": null,
   "metadata": {},
   "outputs": [],
   "source": [
    "title = 'Romeo and Juliet'\n",
    "\n",
    "print( title[0:5] )\n",
    "# this prints 'Romeo'\n",
    "\n",
    "print( title[10:16])\n",
    "# this prints 'Juliet'\n"
   ]
  },
  {
   "cell_type": "markdown",
   "metadata": {},
   "source": [
    "# Functions and methods for strings\n",
    "\n",
    "The len() is an in-built function which can return the length of a string. This function measures the length by counting the number of characters.\n",
    "\n",
    "The value a of string variable can also be manipulated by making use of methods. A method is similar to a function. A method, like a function, is a word that represents a certain action. While functions can be used independently, methods are always associated with a specific type of variable such as a string. We can call a method by appending the name of the method to the name of the variable. The variable and the method must be delimited by a period. The following methods are available for string objects:\n",
    "\n",
    "\n",
    "<table width=\"100%; \" style=\"text-align: left; font-size: 1.0em; \">\n",
    "    <tr style=\"text-align: left; \" >\n",
    "    <td width=\"15%\" style=\"text-align: center; \"><b>Function name</b></td>    \n",
    "<td style=\"text-align: left; padding-right: 40%;\"><b>Description</b></td>    \n",
    "</tr> \n",
    "<tr style=\"text-align: left; \" >\n",
    "    <td width=\"15%\" style=\"text-align: center; \">upper()</td>    \n",
    "<td style=\"text-align: left; padding-right: 40%;\">Converts all the characters of the string into upper case.</td>    \n",
    "</tr> \n",
    "    <tr style=\"text-align: left; \">\n",
    "    <td width=\"15%\" style=\"text-align: center; \">lower()</td>    \n",
    "<td style=\"text-align: left; \" >Converts all the characters of the string into lower case.</td>    \n",
    "</tr>\n",
    "      <tr style=\"text-align: left; \">\n",
    "    <td width=\"15%\" style=\"text-align: center; \" >strip()</td>    \n",
    "<td style=\"text-align: left; \" >Removes all white space (such as spaces, hard returns or tabs) from the beginning and the end of a string </td>   \n",
    "</table>\n",
    "\n",
    "\n",
    "The code below gives an indication of how these methods may be used."
   ]
  },
  {
   "cell_type": "code",
   "execution_count": null,
   "metadata": {},
   "outputs": [],
   "source": [
    "title = \"   The Hitchhiker's Guide to the Galaxy   \"\n",
    "\n",
    "title = title.strip()\n",
    "#this removes the spaces before and after the original string\n",
    "\n",
    "print( len(title) )\n",
    "## This prints 36\n",
    "\n",
    "print( title.lower() )\n",
    "## This prints 'the hitchhiker's guide to the galaxy'\n",
    "\n",
    "print( title.upper() )\n",
    "## This prints 'THE HITCHHIKER'S GUIDE TO THE GALAXY'\n",
    "\n"
   ]
  },
  {
   "cell_type": "markdown",
   "metadata": {},
   "source": [
    "The method 'index()', finally, determines whether a string contains a substring. If it does, the method returns a number\n",
    "indicating the starting position (i.e. the index) of this substring. The function always returns the index of the first occurrence of the substring. If the string does not contain the substring that is mentioned as a parameter, the method produces an error message.\n",
    "\n",
    "This method can be used productively in string slices, as is demonstrated below.\n"
   ]
  },
  {
   "cell_type": "code",
   "execution_count": null,
   "metadata": {},
   "outputs": [],
   "source": [
    "email = 'person@test.com'\n",
    "\n",
    "startIndex = email.index('@')\n",
    "\n",
    "username = email[ 0 : startIndex ]\n",
    "print(username)\n",
    "## prints 'person'\n",
    "\n",
    "domain = email[ startIndex + 1 : len(email) ]\n",
    "print(domain)\n",
    "## prints 'test.com'\n"
   ]
  },
  {
   "cell_type": "markdown",
   "metadata": {},
   "source": [
    "\n",
    "\n",
    "< [Flow control](Flow%20Control.html) | [Table of contents](https://tdm.universiteitleiden.nl/Python) | [Functions, modules and libraries](Functions.html) >"
   ]
  }
 ],
 "metadata": {
  "kernelspec": {
   "display_name": "Python 3",
   "language": "python",
   "name": "python3"
  },
  "language_info": {
   "codemirror_mode": {
    "name": "ipython",
    "version": 3
   },
   "file_extension": ".py",
   "mimetype": "text/x-python",
   "name": "python",
   "nbconvert_exporter": "python",
   "pygments_lexer": "ipython3",
   "version": "3.7.2"
  }
 },
 "nbformat": 4,
 "nbformat_minor": 2
}
