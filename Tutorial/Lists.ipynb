{
 "cells": [
  {
   "cell_type": "markdown",
   "metadata": {},
   "source": [
    "\n",
    "< [Functions](Functions.html) | [Table of contents](https://tdm.universiteitleiden.nl/Python) | [Dictionaries](Dictionaries.html) >\n",
    "\n"
   ]
  },
  {
   "cell_type": "markdown",
   "metadata": {},
   "source": [
    "# Lists\n",
    "\n",
    "\n",
    "The variables that were discussed in the tutorial on Python basics were all assigned single values, such as strings, integers or floating point numbers. Alternatively, it is also possible to work with variables that contain collections of values. One example of a variable type that can hold multiple values is the list. Lists can be created by surrounding all the values that you want to gather by square brackets. The individual values within such lists need to be separated by commas. The statement below creates a list containing the five days of the working week:\n"
   ]
  },
  {
   "cell_type": "code",
   "execution_count": null,
   "metadata": {},
   "outputs": [],
   "source": [
    "week = [ \"Monday\" , \"Tuesday\" , \"Wednesday\" , \"Thursday\" , \"Friday\" ]  "
   ]
  },
  {
   "cell_type": "markdown",
   "metadata": {},
   "source": [
    "The elements in the list above are all strings. The elements do not all have to be of the same type, however. It is also allowed to mix strings with integers, for instance. \n",
    "When lists are created in this manner, Python numbers the elements in the array automatically, following the order in which these values given. These numbers will function as indices that can be used to access the individual items in the array. Bear in mind that Python starts counting at 0. In the example above, the element “Monday” is assigned the index “0”, and the element “Thursday” will have the index “3”. As is the case for strings and their individual characters, the separate elements in the list can be accessed using the bracket operator. \n",
    "Another similarity between lists and strings is that the lengths of both types of variables can be found using the len() function. In the case of lists, len() returns the number of elements in the list. \n",
    "\n",
    "\n",
    "\n"
   ]
  },
  {
   "cell_type": "code",
   "execution_count": null,
   "metadata": {},
   "outputs": [],
   "source": [
    "week = [ \"Monday\" , \"Tuesday\" , \"Wednesday\" , \"Thursday\" , \"Friday\" ]\n",
    "\n",
    "print( week[3] )\n",
    "# This prints \"Thursday\"\n",
    "\n",
    "print( week[-1] )\n",
    "# This prints \"Friday\"\n",
    "\n",
    "print( len(week) )\n",
    "# This prints 5\n",
    "\n",
    "\n",
    "  "
   ]
  },
  {
   "cell_type": "markdown",
   "metadata": {},
   "source": [
    "The append() method can be used to add items to an existing list. Note that methods, in contrast to functions, need to be pasted onto variables using the period. See listing 2.1. below for an illustration."
   ]
  },
  {
   "cell_type": "code",
   "execution_count": null,
   "metadata": {},
   "outputs": [],
   "source": [
    "week.append(\"Saturday\")\n",
    "week.append(\"Sunday\")\n",
    "\n",
    "print( \"The list now contains {} items.\".format( len(week)))\n",
    "# This prints the following sentence:\n",
    "# 'The list now contains 7 items.'"
   ]
  },
  {
   "cell_type": "markdown",
   "metadata": {},
   "source": [
    "Finally, the items in a list can be arranged alphabetically or numerically by making use of the sorted() function. The code below offers an illustration.\n",
    "\n"
   ]
  },
  {
   "cell_type": "code",
   "execution_count": null,
   "metadata": {},
   "outputs": [],
   "source": [
    "unsortedList = [ 5 , 8 , 2 , 9 , 1 , 8 ]\n",
    "print( sorted( unsortedList ) )\n",
    "\n",
    "## The output is as follows:\n",
    "## [1, 2, 5, 8, 8, 9]"
   ]
  },
  {
   "cell_type": "markdown",
   "metadata": {},
   "source": [
    "To navigate across all the elements in a list, you can make use of the ‘for’\n",
    "keyword. As can be seen in the code below, ‘for’ needs to be used in combination with ‘in’ for this\n",
    "purpose. After 'in', you need to mention the name of the list whose elements you want to retrieve,\n",
    "and after 'for', you need to supply the name of a new variable. In the example below, this new variable\n",
    "is named ‘day’. During each cycle, the value of the variable ‘day’ will be different; it will\n",
    "consecutively be assigned the various elements in the list named ‘week’. The loop will\n",
    "continue as long as there are items in the list. "
   ]
  },
  {
   "cell_type": "code",
   "execution_count": null,
   "metadata": {},
   "outputs": [],
   "source": [
    "for day in week:\n",
    "    print( day )"
   ]
  },
  {
   "cell_type": "markdown",
   "metadata": {},
   "source": [
    "\n",
    "< [Functions](Functions.html) | [Table of contents](https://tdm.universiteitleiden.nl/Python) | [Dictionaries](Dictionaries.html) >\n"
   ]
  }
 ],
 "metadata": {
  "kernelspec": {
   "display_name": "Python 3",
   "language": "python",
   "name": "python3"
  },
  "language_info": {
   "codemirror_mode": {
    "name": "ipython",
    "version": 3
   },
   "file_extension": ".py",
   "mimetype": "text/x-python",
   "name": "python",
   "nbconvert_exporter": "python",
   "pygments_lexer": "ipython3",
   "version": "3.7.2"
  }
 },
 "nbformat": 4,
 "nbformat_minor": 2
}
