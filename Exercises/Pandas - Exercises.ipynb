{
 "cells": [
  {
   "cell_type": "markdown",
   "metadata": {},
   "source": [
    "This notebook makes use of the following Python modules:\n",
    "* pandas\n",
    "* seaborn\n",
    "* wordCloud\n",
    "\n",
    "Use the commands in either one of the following cellss to install these packages.\n",
    "For more information, see: https://jakevdp.github.io/blog/2017/12/05/installing-python-packages-from-jupyter/\n",
    "\n",
    "If pip has not been installed on your computer, please consult the following resources:\n",
    "\n",
    "https://www.liquidweb.com/kb/install-pip-windows/\n",
    "https://stackoverflow.com/questions/17271319/how-do-i-install-pip-on-macos-or-os-x"
   ]
  },
  {
   "cell_type": "code",
   "execution_count": null,
   "metadata": {},
   "outputs": [],
   "source": [
    "import sys\n",
    "!conda install --yes --prefix {sys.prefix} pandas\n",
    "!conda install --yes --prefix {sys.prefix} seaborn\n",
    "!conda install --yes --prefix {sys.prefix} wordCloud"
   ]
  },
  {
   "cell_type": "code",
   "execution_count": null,
   "metadata": {},
   "outputs": [],
   "source": [
    "import sys\n",
    "!{sys.executable} -m pip install pandas\n",
    "!{sys.executable} -m pip install seaborn\n",
    "!{sys.executable} -m pip install wordCloud"
   ]
  },
  {
   "cell_type": "markdown",
   "metadata": {},
   "source": [
    "# Data set for these exercises\n",
    "\n",
    "In the following exercises, we use a data table that has been derived from:\n",
    "\n",
    "> Fatah-Black, Dr KJ (Leiden University) (2017): Lijsten van de leveranties, met de namen van de kopers en betaalde prijzen op de verkopingen van de VOC kamer Zeeland, 1725 – 1777. DANS. https://doi.org/10.17026/dans-23z-ez6f \n",
    "\n",
    "The derived data set is smaller; some rows that contain invalid values were removed. Column names and some values were translated to English. You can download the CSV from <https://tdm.universiteitleiden.nl/Python/voc-data.csv>, or use the Requests library to programmatically download it to the current working directory in the warm-up exercise.\n",
    "\n",
    "# Warm-up exercise\n",
    "\n",
    "Add code below to download the data set. The code to write the file to disk is already provided."
   ]
  },
  {
   "cell_type": "code",
   "execution_count": null,
   "metadata": {},
   "outputs": [],
   "source": [
    "import requests\n",
    "\n",
    "# FIXME: add code to download the CSV file from the URL given above\n",
    "# Make sure to assign the file contents to the data_file variable\n",
    "\n",
    "\n",
    "\n",
    "# Write to voc-data.csv in the current working directory\n",
    "with open('voc-data.csv', 'w', encoding='utf-8') as output_file:\n",
    "    output_file.write(data_file)"
   ]
  },
  {
   "cell_type": "markdown",
   "metadata": {},
   "source": [
    "# Exercise 11.1\n",
    "\n",
    "Using the pandas library, open the csv and print the following:\n",
    "\n",
    "* information about the number of rows and the number of columns\n",
    "* print the first 3 rows\n",
    "* print a list of all column names\n"
   ]
  },
  {
   "cell_type": "code",
   "execution_count": null,
   "metadata": {},
   "outputs": [],
   "source": [
    "# Let's load the data into `transactions_df`:\n",
    "transactions_df = "
   ]
  },
  {
   "cell_type": "markdown",
   "metadata": {},
   "source": [
    "# Exercise 11.2\n",
    "\n",
    "Using the pandas library, calculate the correlations between the (numerical) columns in your csv file. Additionally, print a list of the means of all the columns."
   ]
  },
  {
   "cell_type": "code",
   "execution_count": null,
   "metadata": {},
   "outputs": [],
   "source": []
  },
  {
   "cell_type": "markdown",
   "metadata": {},
   "source": [
    "# Exercise 11.3\n",
    "\n",
    "The data.csv file is clean, in the sense that all values in the `groten` column are valid integers, but some integers are outside the expected range. The data set documentation mentions a Flemish pound is the same as 20 groten, though the column contains other values too.\n",
    "\n",
    "Complete the code below to create a data frame whose `groten` column has only values between 0 and 19. The last statement lets you check your code."
   ]
  },
  {
   "cell_type": "code",
   "execution_count": null,
   "metadata": {},
   "outputs": [],
   "source": [
    "# FIXME: select the rows in which `groten` has a value between 0 and 19 and assign it to `only_correct_groten_df`\n",
    "only_correct_groten_df = \n",
    "\n",
    "# If the result of the next statement is `True`, your code worked!\n",
    "only_correct_groten_df.loc[lambda df: df['groten'] >= 0 and df['groten'] < 20].all()"
   ]
  },
  {
   "cell_type": "markdown",
   "metadata": {},
   "source": [
    "# Exercise 11.4\n",
    "\n",
    "The total price paid in a transaction is the sum of the Flemish pounds and the *groten*. Again, 1 Flemish pound is worth 20 *groten*.\n",
    "\n",
    "Create a column `total_price` that has a single (floating point) number representing the total price in Flemish pounds.\n",
    "\n",
    "Create another column `price_per_pound` that contains the price per pound."
   ]
  },
  {
   "cell_type": "code",
   "execution_count": null,
   "metadata": {},
   "outputs": [],
   "source": []
  },
  {
   "cell_type": "markdown",
   "metadata": {},
   "source": [
    "# Exercise 11.5\n",
    "\n",
    "We would like to know how the price of coffee (\"Coffij\") changed over time. We don't have prices paid per day, but prices paid for each transaction. There were two auctions per year.\n",
    "\n",
    "Let's assume that only the date of the auction influences the price per pound, not the type of coffee (specified in the `specific_product` column), the number of auction lots or other factors.\n",
    "\n",
    "Calculate the mean price per pound for coffee for each auction."
   ]
  },
  {
   "cell_type": "code",
   "execution_count": null,
   "metadata": {},
   "outputs": [],
   "source": []
  },
  {
   "cell_type": "markdown",
   "metadata": {},
   "source": [
    "# Saving the results as a time series\n",
    "\n",
    "If we want to use the results from exercise 11.5 to understand the changes over time, we need to combine the columns that make up the date into a proper datetime column, so that Pandas can apply its time and date functionality. We'll use the [pd.to_datetime()](https://pandas.pydata.org/pandas-docs/stable/reference/api/pandas.to_datetime.html#pandas.to_datetime) method.\n",
    "\n",
    "Let's create a datetime column and then save the data frame to a new CSV file *prices_of_coffee_over_time.csv*."
   ]
  },
  {
   "cell_type": "code",
   "execution_count": null,
   "metadata": {},
   "outputs": [],
   "source": [
    "# First concatenate and convert the year, month and day columns into a datetime column\n",
    "transactions_df['date'] = pd.to_datetime(transactions_df[['year', 'month', 'day']])\n",
    "\n",
    "# FIXME: we added a column to the 'raw' data set, so we need to redo what we did in 11.5 to get the groups.\n",
    "\n",
    "\n",
    "# Use Pandas' built-in functionality\n",
    "transactions_per_auction_df.to_csv('prices_of_coffee_over_time.csv')"
   ]
  }
 ],
 "metadata": {
  "kernelspec": {
   "display_name": "Python 3",
   "language": "python",
   "name": "python3"
  },
  "language_info": {
   "codemirror_mode": {
    "name": "ipython",
    "version": 3
   },
   "file_extension": ".py",
   "mimetype": "text/x-python",
   "name": "python",
   "nbconvert_exporter": "python",
   "pygments_lexer": "ipython3",
   "version": "3.7.2"
  }
 },
 "nbformat": 4,
 "nbformat_minor": 2
}
