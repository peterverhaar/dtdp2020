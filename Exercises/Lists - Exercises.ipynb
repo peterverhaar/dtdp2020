{
 "cells": [
  {
   "cell_type": "markdown",
   "metadata": {},
   "source": [
    "# Lists - Exercises"
   ]
  },
  {
   "cell_type": "markdown",
   "metadata": {},
   "source": [
    "## Exercise 5.1.\n",
    "\n",
    "The list below contains the titles of first twelve plays written by William Shakespeare.\n",
    "\n",
    "```\n",
    "plays = [ 'Comedy of Errors' ,\n",
    "'Henry VI, Part I' ,\n",
    "'Henry VI, Part II' ,\n",
    "'Henry VI, Part III' ,\n",
    "'Richard III' ,\n",
    "'Taming of the Shrew' ,\n",
    "'Titus Andronicus' ,\n",
    "'Romeo and Juliet' ,\n",
    "'Two Gentlemen of Verona' ,\n",
    "'Love\\'s Labour\\'s Lost' ,\n",
    "'Richard II' ,\n",
    "'Midsummer Night\\'s Dream' ]```\n",
    "\n",
    "Add the following two titles to this list:\n",
    " \n",
    "* Macbeth\n",
    "* Othello\n",
    "\n",
    "Next, count the number of plays in this list and print the titles of the first and the last plays in the list, using the index of these items. \n",
    "Print the full list in alphabetical order using the ‘for’ keyword.\n"
   ]
  },
  {
   "cell_type": "code",
   "execution_count": null,
   "metadata": {},
   "outputs": [],
   "source": [
    "plays = [ 'Comedy of Errors' ,\n",
    "'Henry VI, Part I' ,\n",
    "'Henry VI, Part II' ,\n",
    "'Henry VI, Part III' ,\n",
    "'Richard III' ,\n",
    "'Taming of the Shrew' ,\n",
    "'Titus Andronicus' ,\n",
    "'Romeo and Juliet' ,\n",
    "'Two Gentlemen of Verona' ,\n",
    "'Love\\'s Labour\\'s Lost' ,\n",
    "'Richard II' ,\n",
    "'Midsummer Night\\'s Dream' ]\n",
    "\n",
    "plays.append('Macbeth')\n",
    "plays.append('Othello')\n",
    "plays.append('Romeo and Juliet')\n",
    "plays.append('Timon of Athens')\n",
    "plays.append('Titus Andronicus')\n",
    "\n",
    "print( 'This list contains {} plays.'.format( len(plays) ) )\n",
    "print( \"The first play in the list is '{}'.\".format( plays[0] ) )\n",
    "print( \"The last play in the list is '{}'.\".format( plays[-1] ) )\n",
    "\n",
    "for p in sorted(plays):\n",
    "    print(p)"
   ]
  },
  {
   "cell_type": "markdown",
   "metadata": {},
   "source": [
    "## Exercise 5.2.\n",
    "\n",
    "Convert the following quotation from E.M. Forster’s *A Room with a View* to a list of words, using the split() method. This function can convert a string into a list, based on the spaces that occur in this string. Use this list to give information about the total number of words in this quote, and the number of occurrences of the word “place”.\n",
    "\n",
    "quote = \"We cast a shadow on something wherever we stand, and it is no good moving from place to place to save things; because the shadow always follows. Choose a place where you won’t do harm - yes, choose a place where you won’t do very much harm, and stand in it for all you are worth, facing the sunshine.\"\n",
    "\n"
   ]
  },
  {
   "cell_type": "code",
   "execution_count": null,
   "metadata": {},
   "outputs": [],
   "source": [
    "quote = \"We cast a shadow on something wherever we stand, and it is no good moving from place to place to save things; because the shadow always follows. Choose a place where you won’t do harm - yes, choose a place where you won’t do very much harm, and stand in it for all you are worth, facing the sunshine.\"\n",
    "\n",
    "words = quote.split(' ')\n",
    "print( 'The quote contains {} words.'.format( len(words) ) )\n",
    "\n",
    "count = 0\n",
    "\n",
    "for w in words:\n",
    "    if w.lower() == 'place':\n",
    "        count+= 1\n",
    "\n",
    "print( \"There are {} occurrences of the word 'place'.\".format( count ) )"
   ]
  },
  {
   "cell_type": "markdown",
   "metadata": {},
   "source": [
    "## Exercise 5.3.\n",
    "\n",
    "Copy the code below.\n",
    "\n",
    "```\n",
    "sites = [ 'https://www.universiteitleiden.nl' , 'https://www.stanford.edu' , 'https://www.uu.nl' , 'http://www.ox.ac.uk' , 'https://www.rug.nl' , 'https://www.hu-berlin.de' , 'https://www.uva.nl' ]\n",
    "```\n",
    "\n",
    "Write some additional code which can select the Dutch websites from this list.\n",
    "Tip: You may want to reuse some of the code developed for  exercise 3.4.\n"
   ]
  },
  {
   "cell_type": "code",
   "execution_count": null,
   "metadata": {},
   "outputs": [],
   "source": [
    "sites = [ 'https://www.universiteitleiden.nl' , 'https://www.stanford.edu' , 'https://www.uu.nl' , 'http://www.ox.ac.uk' , 'https://www.rug.nl' , 'https://www.hu-berlin.de' , 'https://www.uva.nl' ]\n",
    "\n",
    "for url in sites:\n",
    "    tdl = url[ url.rindex('.') + 1 : len(url) ]\n",
    "    if tdl == 'nl':\n",
    "        print(url)"
   ]
  }
 ],
 "metadata": {
  "kernelspec": {
   "display_name": "Python 3",
   "language": "python",
   "name": "python3"
  },
  "language_info": {
   "codemirror_mode": {
    "name": "ipython",
    "version": 3
   },
   "file_extension": ".py",
   "mimetype": "text/x-python",
   "name": "python",
   "nbconvert_exporter": "python",
   "pygments_lexer": "ipython3",
   "version": "3.7.2"
  }
 },
 "nbformat": 4,
 "nbformat_minor": 2
}
