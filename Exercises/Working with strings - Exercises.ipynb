{
 "cells": [
  {
   "cell_type": "markdown",
   "metadata": {},
   "source": [
    "# Working with strings - Exercises"
   ]
  },
  {
   "cell_type": "markdown",
   "metadata": {},
   "source": [
    "## Exercise 3.1.\n",
    "\n",
    "Create two string variables. The first variable must be assigned the value ‘unique’ and the second variable should be assigned the value ‘biodiversity’. Create a third variable with the value ‘university’, by firstly slicing the first two string variables, and by subsequently concatenating the substrings."
   ]
  },
  {
   "cell_type": "code",
   "execution_count": null,
   "metadata": {},
   "outputs": [],
   "source": [
    "word1 = 'unique'\n",
    "word2 = 'biodiversity'\n",
    "\n",
    "word3 = word1[0:3] + word2[5:len(word2)]\n",
    "print(word3)"
   ]
  },
  {
   "cell_type": "markdown",
   "metadata": {},
   "source": [
    "## Exercise 3.2.\n",
    "\n",
    "Create the following two string variables:\n",
    "\n",
    "```\n",
    "first = 'vladimir'\n",
    "last = 'nabokov'\n",
    "```\n",
    "\n",
    "Using these two existing variables, create a third variable named ‘fullName’ with the following value: “Nabokov, Vladimir”. Note that the first character of the first name and the last name must be in upper case. Also try to print the initials of the author in upper case, as follows: ‘VN’\n"
   ]
  },
  {
   "cell_type": "code",
   "execution_count": null,
   "metadata": {},
   "outputs": [],
   "source": [
    "first = 'vladimir'\n",
    "last = 'nabokov'\n",
    "\n",
    "fullName = last[0].upper() + last[1:len(last)]\n",
    "fullName += ', '\n",
    "\n",
    "## N.B. fullName += is the same as\n",
    "## fullName = fullName +\n",
    "\n",
    "fullName += first[0].upper()\n",
    "fullName += first[1:len(first)]\n",
    "\n",
    "print( fullName )\n",
    "\n",
    "## An alternative approach is as follows:\n",
    "\n",
    "fullname = last.title() + ', ' + first.title()\n",
    "print(fullName)\n",
    "\n",
    "initials = first[0].upper() + last[0].upper()\n",
    "print(initials)"
   ]
  },
  {
   "cell_type": "markdown",
   "metadata": {},
   "source": [
    "## Exercise 3.3.\n",
    "\n",
    "Create the following two strings:\n",
    "\n",
    "\n",
    "```\n",
    "quote1 = 'The truth is rarely pure and never simple'\n",
    "quote2 = 'Experience is the name we give to our mistakes'\n",
    "```\n",
    "\n",
    "Which of these two quotes has the highest number of characters?\n"
   ]
  },
  {
   "cell_type": "code",
   "execution_count": null,
   "metadata": {},
   "outputs": [],
   "source": [
    "quote1 = 'The truth is rarely pure and never simple'\n",
    "quote2 = 'Experience is the name we give to our mistakes'\n",
    "\n",
    "max = 'quote2'\n",
    "\n",
    "if len(quote1) > len(quote2):\n",
    "    max = 'quote1'\n",
    "\n",
    "print ( max + ' has the highest number of characters.' )"
   ]
  },
  {
   "cell_type": "markdown",
   "metadata": {},
   "source": [
    "## Exercise 3.4.\n",
    "\n",
    "Create a variable named ‘url’ and assign it following variable: ‘https://www.universiteitleiden.nl’.\n",
    "\n",
    "Try to write code which can extract the top domain level (i.e. the country code) from this url.\n",
    "Tip: this problem can be solved by creating a string slice with the last two characters only, but top domain levels may of course consists of more than two characters. An alternative approach is to make use of the ‘rindex()’ function, which returns the LAST occurrence of a character. "
   ]
  },
  {
   "cell_type": "code",
   "execution_count": null,
   "metadata": {},
   "outputs": [],
   "source": [
    "url = 'https://www.universiteitleiden.nl'\n",
    "\n",
    "tdl = url[ url.rindex('.') + 1 : len( url ) ]\n",
    "print( tdl )"
   ]
  }
 ],
 "metadata": {
  "kernelspec": {
   "display_name": "Python 3",
   "language": "python",
   "name": "python3"
  },
  "language_info": {
   "codemirror_mode": {
    "name": "ipython",
    "version": 3
   },
   "file_extension": ".py",
   "mimetype": "text/x-python",
   "name": "python",
   "nbconvert_exporter": "python",
   "pygments_lexer": "ipython3",
   "version": "3.7.2"
  }
 },
 "nbformat": 4,
 "nbformat_minor": 2
}
