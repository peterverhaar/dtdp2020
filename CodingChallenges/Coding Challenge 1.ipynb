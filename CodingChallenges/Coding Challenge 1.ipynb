{
 "cells": [
  {
   "cell_type": "markdown",
   "metadata": {},
   "source": [
    "## Solutions to coding challenge 1"
   ]
  },
  {
   "cell_type": "code",
   "execution_count": 3,
   "metadata": {},
   "outputs": [
    {
     "name": "stdout",
     "output_type": "stream",
     "text": [
      "Guess a number in between 1 and 50: 4\n",
      "guess is low\n",
      "Enter an integer from 1 to 50: 19\n",
      "guess is high\n",
      "Enter an integer from 1 to 50: 18\n",
      "guess is high\n",
      "Enter an integer from 1 to 50: 17\n",
      "Wonderful! You guessed it!\n"
     ]
    }
   ],
   "source": [
    "# This is a numbers guessing game\n",
    "\n",
    "number = 17\n",
    "guess = int( input(\"Guess a number in between 1 and 50: \") )\n",
    "while number != guess:\n",
    "    print\n",
    "    if guess < number:\n",
    "        print (\"guess is low\")\n",
    "        guess = int( input(\"Enter an integer from 1 to 50: \") )\n",
    "    elif guess > number:\n",
    "        print (\"guess is high\")\n",
    "        guess = int( input(\"Enter an integer from 1 to 50: \") )\n",
    "# once number will equal guess then it will exit\n",
    "# while loop and display this message\n",
    "print (\"Wonderful! You guessed it!\")"
   ]
  },
  {
   "cell_type": "code",
   "execution_count": 1,
   "metadata": {},
   "outputs": [
    {
     "name": "stdout",
     "output_type": "stream",
     "text": [
      "Guess a number between 1 and 50: 17\n",
      "That's too low!\n",
      "Guess a number between 1 and 50: 34\n",
      "Well done!\n"
     ]
    }
   ],
   "source": [
    "number = 34\n",
    "guess = 0\n",
    "while guess != number:\n",
    "    guess = int(input(\"Guess a number between 1 and 50: \")) \n",
    "    if guess > number: \n",
    "        print(\"That's too high!\")\n",
    "    if guess < number: \n",
    "        print(\"That's too low!\")\n",
    "    if guess == number:\n",
    "        break\n",
    "\n",
    "if guess == number:\n",
    "    print(\"Well done!\")\n"
   ]
  },
  {
   "cell_type": "code",
   "execution_count": null,
   "metadata": {},
   "outputs": [],
   "source": [
    "guess = int( input(\"Guess a number in between 1 and 50: \") )\n",
    "\n",
    "correctGuess = \"You guessed correctly. Congratulations.\"\n",
    "incorrectGuess = \"Sorry. This is incorrect. Please try again.\"\n",
    "nonvalidGuess = \"Sorry. The number you guessed is not within the valid range. Please try again.\"\n",
    "\n",
    "while guess == 17:\n",
    "     print(correctGuess)\n",
    "        \n",
    "while guess >= 51:\n",
    "    print(nonvalidGuess)\n",
    "    \n",
    "while guess <= 0:\n",
    "    print(nonvalidGuess)\n",
    "\n",
    "for guess in range(1,16):\n",
    "    print(incorrectGuess)\n",
    "    \n",
    "for guess in range(18,50):\n",
    "    print(incorrectGuess)"
   ]
  },
  {
   "cell_type": "code",
   "execution_count": null,
   "metadata": {},
   "outputs": [],
   "source": [
    "number = 17\n",
    "\n",
    "guess = int( input(\"Guess a number in between 1 and 50: \") )\n",
    "\n",
    "correctGuess = \"You guessed correctly. Congratulations.\"\n",
    "incorrectGuess = \"Sorry. Your guess is incorrect. Please try again.\"\n",
    "nonvalidGuess = \"Sorry. The number you guessed is not within the valid range. Please try again.\"\n",
    "\n",
    "if guess == 17:\n",
    "    print(correctGuess)\n",
    "    \n",
    "elif guess in range (1,16):\n",
    "        print(incorrectGuess)\n",
    "    \n",
    "elif guess in range (18,51):\n",
    "        print(incorrectGuess)\n",
    "        \n",
    "else:\n",
    "    print(nonvalidGuess)"
   ]
  },
  {
   "cell_type": "code",
   "execution_count": null,
   "metadata": {},
   "outputs": [
    {
     "name": "stdout",
     "output_type": "stream",
     "text": [
      "Guess a number in between 1 and 50: 2\n",
      "Guess again.\n",
      "Guess a number in between 1 and 50: 5\n",
      "Guess again.\n",
      "Guess a number in between 1 and 50: 16\n",
      "Guess again.\n",
      "Guess a number in between 1 and 50: 17\n",
      "Guess again.\n"
     ]
    }
   ],
   "source": [
    "number = 17\n",
    "guess = int( input(\"Guess a number in between 1 and 50: \") )\n",
    "\n",
    "while guess > 50:\n",
    "    print('This number is too high.')\n",
    "    break\n",
    "while guess < 1:\n",
    "    print('This number is too low.')\n",
    "    break\n",
    "if guess == number:\n",
    "    print('Congratulations, you have guessed the number!')\n",
    "else:\n",
    "    for guess in range(1, 50):\n",
    "        print('Guess again.')\n",
    "        guess = int( input(\"Guess a number in between 1 and 50: \") )"
   ]
  },
  {
   "cell_type": "code",
   "execution_count": null,
   "metadata": {},
   "outputs": [],
   "source": []
  }
 ],
 "metadata": {
  "kernelspec": {
   "display_name": "Python 3",
   "language": "python",
   "name": "python3"
  },
  "language_info": {
   "codemirror_mode": {
    "name": "ipython",
    "version": 3
   },
   "file_extension": ".py",
   "mimetype": "text/x-python",
   "name": "python",
   "nbconvert_exporter": "python",
   "pygments_lexer": "ipython3",
   "version": "3.7.2"
  }
 },
 "nbformat": 4,
 "nbformat_minor": 2
}
